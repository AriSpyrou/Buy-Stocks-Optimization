{
  "nbformat": 4,
  "nbformat_minor": 0,
  "metadata": {
    "colab": {
      "provenance": [],
      "collapsed_sections": []
    },
    "kernelspec": {
      "name": "python3",
      "display_name": "Python 3"
    }
  },
  "cells": [
    {
      "cell_type": "code",
      "metadata": {
        "id": "m7_4p5SWQSVZ",
        "colab": {
          "base_uri": "https://localhost:8080/"
        },
        "outputId": "5ebfe925-3a05-4bbe-d568-5f1aa94b2fa2"
      },
      "source": [
        "import pandas as pd\n",
        "import numpy as np\n",
        "from matplotlib import pyplot as plt\n",
        "import seaborn as sns\n",
        "from google.colab import drive\n",
        "drive.mount('/content/drive')"
      ],
      "execution_count": null,
      "outputs": [
        {
          "output_type": "stream",
          "text": [
            "Drive already mounted at /content/drive; to attempt to forcibly remount, call drive.mount(\"/content/drive\", force_remount=True).\n"
          ],
          "name": "stdout"
        }
      ]
    },
    {
      "cell_type": "code",
      "metadata": {
        "id": "5oTrI-0PxA6m"
      },
      "source": [
        "# This code is a mess\n",
        "# In case you see this Mr. Papaspyrou I apologise for the state of the code\n",
        "# The program doesn't exactly 'finish' but I have spent more time than\n",
        "# I expected to and I have other assignments to get to. I hope you understand."
      ],
      "execution_count": null,
      "outputs": []
    },
    {
      "cell_type": "code",
      "metadata": {
        "id": "ly1u_lu5QeRw"
      },
      "source": [
        "# Read the CSV and parse the dates as datetime\n",
        "stocks = pd.read_csv('/content/drive/MyDrive/PythonSemesterProject/stocks.csv', parse_dates=['Date'])\n",
        "# Get the names and sectors of the SP500 companies which will prove useful\n",
        "sp500 = pd.read_html('https://en.wikipedia.org/wiki/List_of_S%26P_500_companies')[0].Symbol\n",
        "# Use only the SP500 companies\n",
        "stocks = stocks.loc[stocks.Company_Id.isin(sp500)]\n",
        "# Set the date as the index inplace\n",
        "stocks.set_index(pd.DatetimeIndex(stocks['Date']), inplace=True)\n",
        "# Drop the date column as it now the index\n",
        "stocks.drop(columns=['Date', 'OpenInt'], inplace=True)\n",
        "stocks.drop(stocks.loc[stocks.Volume == 0].index, inplace=True)\n",
        "stocks['Intra'] = stocks.Close - stocks.Open\n",
        "stocks.loc[stocks.Intra < 0, 'Intra'] = 0"
      ],
      "execution_count": null,
      "outputs": []
    },
    {
      "cell_type": "code",
      "metadata": {
        "id": "RzpYCzxkT1Gw"
      },
      "source": [
        "# Now we calculate the maximum number of stocks we can trade and \n",
        "# since the volume column wasn't of any other used we do it in place\n",
        "stocks['Volume'] = np.floor(stocks['Volume'] * 0.1).astype(int)"
      ],
      "execution_count": null,
      "outputs": []
    },
    {
      "cell_type": "code",
      "metadata": {
        "id": "bz0ODxBUWm30"
      },
      "source": [
        "def buy_stock(id, when, quantity='max', mode='buy-low'):\n",
        "    \"\"\"\n",
        "    Buys stocks and updates our wallet, our portfolio and writes an entry in our sequence.\n",
        "\n",
        "    id: Company Id of the stocks we are buying (str)\n",
        "    quantity: How many stocks we're buying (int)\n",
        "    when: When we are buying the stocks (str, Timestamp)\n",
        "    mode: Mode of buying can be: buy-low, buy-open, buy-close (str)\n",
        "    \"\"\"\n",
        "    \n",
        "    global current_date, wallet, portfolio, output, n_moves\n",
        "   \n",
        "    if type(when) is str:\n",
        "        when = pd.to_datetime(when, format='%Y-%m-%d')\n",
        "    \n",
        "    if when < current_date:\n",
        "        print('Time Paradox')\n",
        "\n",
        "    smol = stocks.loc[(when == stocks.index) & (id == stocks.Company_Id)]\n",
        "\n",
        "    if mode == 'buy-low':\n",
        "        buy_col = smol.Low\n",
        "    elif mode == 'buy-open':\n",
        "        buy_col = smol.Open\n",
        "    else:\n",
        "        buy_col = smol.Close\n",
        "    \n",
        "    if quantity == 'max':\n",
        "        quantity = wallet // (buy_col.item() * 1.01)\n",
        "        if smol.Volume[0] < quantity:\n",
        "            quantity = smol.Volume[0]\n",
        "            \n",
        "\n",
        "    # If stock exists\n",
        "    if len(smol.index) == 1:\n",
        "        cost = quantity * buy_col.item() * 1.01 # Define the cost of the transaction\n",
        "        wallet -= cost # Remove the funds from our wallet\n",
        "        portfolio[id] = quantity # Add the stock to our portfolio or update the amount\n",
        "        current_date = when # Change the current date\n",
        "        print('{} {} {} {}'.format(when.date(), mode, id, int(quantity)))\n",
        "        output += '{} {} {} {}\\n'.format(when.date(), mode, id, int(quantity))\n",
        "        n_moves += 1\n",
        "\n",
        "def sell_stock(id, when, quantity='max', mode='sell-high'):\n",
        "    \"\"\"\n",
        "    Sells stocks and updates our wallet, our portfolio and writes an entry in our sequence.\n",
        "\n",
        "    id: Company Id of the stocks we are selling (str)\n",
        "    quantity: How many stocks we're selling (int)\n",
        "    when: When we are selling the stocks (str, Timestamp)\n",
        "    mode: Mode of buying can be: buy-high, buy-open, buy-close (str)\n",
        "    \"\"\"\n",
        "\n",
        "    global current_date, wallet, portfolio, output, n_moves\n",
        "\n",
        "    if type(when) is str:\n",
        "        when = pd.to_datetime(when, format='%Y-%m-%d')\n",
        "    \n",
        "    if when < current_date:\n",
        "        print('Time Paradox')\n",
        "\n",
        "    smol = stocks.loc[(when == stocks.index) & (id == stocks.Company_Id)]\n",
        "\n",
        "    if mode == 'sell-high':\n",
        "        sell_col = smol.High\n",
        "    elif mode == 'sell-open':\n",
        "        sell_col = smol.Open\n",
        "    else:\n",
        "        sell_col = smol.Close\n",
        "\n",
        "    if quantity == 'max':\n",
        "        quantity = portfolio[id]\n",
        "        if quantity > smol.Volume[0]:\n",
        "            quantity = smol.Volume[0]\n",
        "\n",
        "    gain = quantity * sell_col.item() * 0.99 # Define the gain of the transaction\n",
        "    wallet += gain # Add the funds to our wallet\n",
        "    portfolio[id] -= quantity # Update the stock information in our portfolio\n",
        "    current_date = when # Change the current date\n",
        "    print('{} {} {} {}'.format(when.date(), mode, id, int(quantity)))\n",
        "    output += '{} {} {} {}\\n'.format(when.date(), mode, id, int(quantity))\n",
        "    n_moves += 1\n",
        "    '''\n",
        "    print('Sold {} {} on {} for {}'.format(quantity, id, when, gain))\n",
        "    print('Wallet: {} \\nPortfolio: {} \\nDate: {}'\n",
        "    .format(wallet, portfolio, current_date))\n",
        "    print('--------------------------------------------------------')\n",
        "    '''"
      ],
      "execution_count": null,
      "outputs": []
    },
    {
      "cell_type": "code",
      "metadata": {
        "id": "ImTLzIUFgMZ4"
      },
      "source": [
        "def lolipop(stock_index_stop=None):\n",
        "    time_diff = 0\n",
        "    if stock_index_stop is not None:\n",
        "        time_diff = (stock_index_stop - current_date).days\n",
        "    if (time_diff > 30 and stock_index_stop is not None) or (stock_index_stop is None):\n",
        "        global n_moves, output, wallet, portfolio, year_min, year_max, init_year_offset\n",
        "\n",
        "        profits = {}\n",
        "        profits_when = {}\n",
        "        time_step = 1\n",
        "        # Find slice of stocks with valid date ie today and onward\n",
        "        if stock_index_stop is not None:\n",
        "            stock_slice = stocks.loc[(stocks.index > current_date) & (stocks.index < stock_index_stop)].sort_index()\n",
        "            companies = stock_slice.loc[stock_slice.Low <= wallet].Company_Id.unique()\n",
        "            time_diff = (stock_index_stop - current_date).days\n",
        "            time_step = time_diff // (30*4)\n",
        "            year_min = 0\n",
        "            year_max = time_step*4\n",
        "            if time_step == 0:\n",
        "                time_step = 1\n",
        "        else:\n",
        "            stock_slice = stocks.loc[stocks.index > current_date].sort_index()\n",
        "            companies = stock_slice.loc[(stock_slice.index <= current_date + pd.DateOffset(years=init_year_offset)) & (stock_slice.Low <= wallet)].Company_Id.unique()\n",
        "        \n",
        "        # For each company with stocks in the next init_year_offset years whose stocks we can afford  \n",
        "        for company in companies:\n",
        "            comp_profits = []\n",
        "            comp = []\n",
        "            # Calculate the profit for every year that we hold the stocks\n",
        "            for years in range(year_min, year_max, time_step):\n",
        "                sell = buy = 0\n",
        "                quantity = 0\n",
        "                sell_idx = buy_idx = None\n",
        "                try:\n",
        "                    if stock_index_stop is not None:\n",
        "                        comp_slice = stock_slice.loc[(stock_slice.Company_Id == company) & (stock_slice.index <= current_date + pd.DateOffset(months=years))]\n",
        "                    else:\n",
        "                        comp_slice = stock_slice.loc[(stock_slice.Company_Id == company) & (stock_slice.index <= current_date + pd.DateOffset(years=years))]\n",
        "                    \n",
        "                    buy, buy_idx = comp_slice.Low.min(0), comp_slice.Low.idxmin(0)\n",
        "                    sell, sell_idx = comp_slice.loc[comp_slice.index > buy_idx].High.max(0), comp_slice.loc[comp_slice.index > buy_idx].High.idxmax(0)\n",
        "                    \n",
        "                    quantity = wallet // (buy * 1.01)\n",
        "                    if comp_slice.loc[comp_slice.index == buy_idx].Volume[0] < quantity:\n",
        "                        quantity = comp_slice.loc[comp_slice.index == buy_idx].Volume[0]\n",
        "                    if comp_slice.loc[comp_slice.index == sell_idx].Volume[0] < quantity:\n",
        "                        quantity = comp_slice.loc[comp_slice.index == sell_idx].Volume[0]\n",
        "\n",
        "                    prof = (sell - buy) * quantity / years\n",
        "\n",
        "                    comp.append([buy_idx, sell_idx, quantity])\n",
        "                    comp_profits.append(prof)\n",
        "                except ValueError:\n",
        "                    pass\n",
        "            try:\n",
        "                profits[company] = max(comp_profits)\n",
        "                profits_when[company] = comp[comp_profits.index(max(comp_profits))]\n",
        "            except ValueError:\n",
        "                pass\n",
        "        \n",
        "        if len(list(profits.values())) > 0:\n",
        "            if list(profits.values())[0] != -0.0:\n",
        "                buy_stock(max(profits, key=profits.get), profits_when[max(profits, key=profits.get)][0], profits_when[max(profits, key=profits.get)][2])\n",
        "                if wallet > 5000:\n",
        "                    lolipop(stock_index_stop=profits_when[max(profits, key=profits.get)][1])\n",
        "                sell_stock(max(profits, key=profits.get), profits_when[max(profits, key=profits.get)][1], profits_when[max(profits, key=profits.get)][2])\n",
        "            else:\n",
        "                print(n_moves)\n",
        "                output = str(n_moves) + '\\n' + output\n",
        "                with open('large.txt', 'w') as f:\n",
        "                    f.write(output)\n",
        "                raise ProgramFinished"
      ],
      "execution_count": null,
      "outputs": []
    },
    {
      "cell_type": "code",
      "metadata": {
        "id": "9ef-gdnRYGpB"
      },
      "source": [
        "n_moves = 0\n",
        "output = ''\n",
        "wallet = 1 # Our wallet which starts at 1$\n",
        "portfolio = {} # Our portfolio which starts out empty\n",
        "current_date = pd.to_datetime('1960-01-01', format='%Y-%m-%d') # The date we're on\n",
        "\n",
        "while n_moves <= 1000000:\n",
        "    year_min = 2\n",
        "    year_max = 5\n",
        "    init_year_offset = 3\n",
        "    lolipop()"
      ],
      "execution_count": null,
      "outputs": []
    },
    {
      "cell_type": "code",
      "metadata": {
        "id": "Vh0LLMxgGNac"
      },
      "source": [
        "wallet = 1\n",
        "portfolio = {}\n",
        "current_date = pd.to_datetime('1960-01-01', format='%Y-%m-%d')\n",
        "\n",
        "wallet_history = [1]\n",
        "pf_val_history = [0]\n",
        "date_index = [current_date]\n",
        "\n",
        "with open('large.txt', 'r') as f:\n",
        "    for i, line in enumerate(f):\n",
        "        if i == 0:\n",
        "            continue\n",
        "        splt = line.split(' ')\n",
        "        current_date = pd.to_datetime(splt[0], format='%Y-%m-%d')\n",
        "        mode = splt[1]\n",
        "        comp = splt[2]\n",
        "        quant = int(splt[3])\n",
        "\n",
        "        if mode == 'buy-low':\n",
        "            p = stocks.loc[(stocks.Company_Id == comp) & (stocks.index == current_date)].Low[0]\n",
        "            price = p*quant\n",
        "            wallet -= price\n",
        "            try:\n",
        "                portfolio[comp] += quant\n",
        "            except KeyError:\n",
        "                portfolio[comp] = 0\n",
        "                portfolio[comp] += quant\n",
        "        else:\n",
        "            p = stocks.loc[(stocks.Company_Id == comp) & (stocks.index == current_date)].High[0]\n",
        "            price = p*quant\n",
        "            wallet += price\n",
        "            portfolio[comp] -= quant\n",
        "        \n",
        "        wallet_history.append(wallet)\n",
        "        date_index.append(current_date)\n",
        "        pf_val = 0\n",
        "        for stock in portfolio.items():\n",
        "            id = stock[0]\n",
        "            q = stock[1]\n",
        "            p = stocks.loc[(stocks.Company_Id == id) & (stocks.index == current_date)].Close[0]\n",
        "            pf_val += q*p\n",
        "        pf_val_history.append(pf_val)"
      ],
      "execution_count": null,
      "outputs": []
    },
    {
      "cell_type": "code",
      "metadata": {
        "colab": {
          "base_uri": "https://localhost:8080/",
          "height": 536
        },
        "id": "769fqVJwKMpw",
        "outputId": "a8f6ab26-0d48-4aee-bd5e-b96b9a6f207d"
      },
      "source": [
        "df = pd.DataFrame(list(zip(date_index, wallet_history, pf_val_history)), columns=['Date', 'Wallet', 'Portfolio'])\n",
        "df.set_index(pd.DatetimeIndex(df['Date']), inplace=True)\n",
        "df.drop(columns=['Date'], inplace=True)\n",
        "df.index = df.index.date\n",
        "df.plot(kind='bar', stacked=True, figsize=(16,8))\n",
        "plt.tick_params(axis='x', which='major', labelsize=9)"
      ],
      "execution_count": null,
      "outputs": [
        {
          "output_type": "display_data",
          "data": {
            "image/png": "[encoded data removed]",
            "text/plain": [
              "<Figure size 1152x576 with 1 Axes>"
            ]
          },
          "metadata": {
            "tags": [],
            "needs_background": "light"
          }
        }
      ]
    }
  ]
}